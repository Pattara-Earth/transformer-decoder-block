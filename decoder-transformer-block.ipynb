{
 "cells": [
  {
   "cell_type": "code",
   "execution_count": 641,
   "id": "38f542b4",
   "metadata": {},
   "outputs": [],
   "source": [
    "import requests\n",
    "import torch\n",
    "import torch.nn as nn\n",
    "import torch.nn.functional as F\n",
    "from tqdm import tqdm_notebook"
   ]
  },
  {
   "cell_type": "markdown",
   "id": "17e286c9",
   "metadata": {},
   "source": [
    "# Tinyshakespeare dataset"
   ]
  },
  {
   "cell_type": "code",
   "execution_count": 540,
   "id": "95959db4",
   "metadata": {},
   "outputs": [],
   "source": [
    "url = 'https://raw.githubusercontent.com/karpathy/char-rnn/master/data/tinyshakespeare/input.txt'\n",
    "res = requests.get(url)\n",
    "res.raise_for_status()\n",
    "text = res.content.decode(\"utf-8\")"
   ]
  },
  {
   "cell_type": "code",
   "execution_count": 541,
   "id": "1496fdb6",
   "metadata": {},
   "outputs": [
    {
     "name": "stdout",
     "output_type": "stream",
     "text": [
      "First Citizen:\n",
      "Before we proceed any further, hear me speak.\n",
      "\n",
      "All:\n",
      "Speak, speak.\n",
      "\n",
      "First Citizen:\n",
      "You are all resolved rather to die than to famish?\n",
      "\n",
      "All:\n",
      "Resolved. resolved.\n",
      "\n",
      "First Citizen:\n",
      "First, you know Caius Marcius is chief enemy to the people.\n",
      "\n",
      "All:\n",
      "We know't, we know't.\n",
      "\n",
      "First Citizen:\n",
      "Let us kill him, and we'll have corn at our own price.\n",
      "Is't a verdict?\n",
      "\n",
      "All:\n",
      "No more talking on't; let it be done: away, away!\n",
      "\n",
      "Second Citizen:\n",
      "One word, good citizens.\n",
      "\n",
      "First Citizen:\n",
      "We are accounted poor citizens, the patricians good.\n",
      "What authority surfeits on would relieve us: if they\n",
      "would yield us but the superfluity, while it were\n",
      "wholesome, we might guess they relieved us humanely;\n",
      "but they think we are too dear: the leanness that\n",
      "afflicts us, the object of our misery, is as an\n",
      "inventory to particularise their abundance; our\n",
      "sufferance is a gain to them Let us revenge this with\n",
      "our pikes, ere we become rakes: for the gods know I\n",
      "speak this in hunger for bread, not in thirst for revenge.\n",
      "\n",
      "\n"
     ]
    }
   ],
   "source": [
    "print(text[:1000])"
   ]
  },
  {
   "cell_type": "code",
   "execution_count": 542,
   "id": "85a55d78",
   "metadata": {},
   "outputs": [
    {
     "name": "stdout",
     "output_type": "stream",
     "text": [
      "length of dataset in characters: 1115394\n"
     ]
    }
   ],
   "source": [
    "print(f'length of dataset in characters: {len(text)}')"
   ]
  },
  {
   "cell_type": "code",
   "execution_count": 543,
   "id": "78b588a7",
   "metadata": {},
   "outputs": [
    {
     "name": "stdout",
     "output_type": "stream",
     "text": [
      "\n",
      " !$&',-.3:;?ABCDEFGHIJKLMNOPQRSTUVWXYZabcdefghijklmnopqrstuvwxyz \n",
      "Number of token: 65\n"
     ]
    }
   ],
   "source": [
    "chars = sorted(list(set(text)))\n",
    "vocab_size = len(chars)\n",
    "print(f\"{''.join(chars)} \\nNumber of token: {vocab_size}\")"
   ]
  },
  {
   "cell_type": "code",
   "execution_count": 544,
   "id": "179fcfe9",
   "metadata": {},
   "outputs": [],
   "source": [
    "# text tokenization in character level\n",
    "itos = {i:c for i, c in enumerate(chars)}\n",
    "stoi = {c:i for i, c in enumerate(chars)}\n",
    "\n",
    "encode = lambda s: [stoi[c] for c in s] # encoder: string to list of int\n",
    "decode = lambda l: ''.join([itos[i] for i in l]) # decoder: list of int to string"
   ]
  },
  {
   "cell_type": "code",
   "execution_count": 545,
   "id": "5c274154",
   "metadata": {},
   "outputs": [
    {
     "name": "stdout",
     "output_type": "stream",
     "text": [
      "[46, 47, 47, 1, 58, 46, 43, 56, 43]\n",
      "hii there\n"
     ]
    }
   ],
   "source": [
    "print(encode(\"hii there\"))\n",
    "print(decode(encode(\"hii there\")))"
   ]
  },
  {
   "cell_type": "code",
   "execution_count": 48,
   "id": "38a34d4a",
   "metadata": {},
   "outputs": [],
   "source": [
    "# Other word tokenize\n",
    "# https://github.com/google/sentencepiece\n",
    "# https://github.com/openai/tiktoken"
   ]
  },
  {
   "cell_type": "code",
   "execution_count": 52,
   "id": "51ca03ea",
   "metadata": {},
   "outputs": [],
   "source": [
    "# trade-off code book size and seq length\n",
    "# long seq of int with small vocab \n",
    "# short seq of int with large vocab"
   ]
  },
  {
   "cell_type": "code",
   "execution_count": 546,
   "id": "47a12611",
   "metadata": {},
   "outputs": [
    {
     "name": "stdout",
     "output_type": "stream",
     "text": [
      "torch.Size([1115394]) torch.int64\n",
      "tensor([18, 47, 56, 57, 58,  1, 15, 47, 58, 47, 64, 43, 52, 10,  0, 14, 43, 44,\n",
      "        53, 56, 43,  1, 61, 43,  1, 54, 56, 53, 41, 43, 43, 42,  1, 39, 52, 63,\n",
      "         1, 44, 59, 56, 58, 46, 43, 56,  6,  1, 46, 43, 39, 56,  1, 51, 43,  1,\n",
      "        57, 54, 43, 39, 49,  8,  0,  0, 13, 50, 50, 10,  0, 31, 54, 43, 39, 49,\n",
      "         6,  1, 57, 54, 43, 39, 49,  8,  0,  0, 18, 47, 56, 57, 58,  1, 15, 47,\n",
      "        58, 47, 64, 43, 52, 10,  0, 37, 53, 59])\n"
     ]
    }
   ],
   "source": [
    "data = torch.tensor(encode(text), dtype=torch.long)\n",
    "print(data.shape, data.dtype)\n",
    "print(data[:100])"
   ]
  },
  {
   "cell_type": "markdown",
   "id": "59a06d1c",
   "metadata": {},
   "source": [
    "# Bigram model"
   ]
  },
  {
   "cell_type": "code",
   "execution_count": 547,
   "id": "7d392734",
   "metadata": {},
   "outputs": [
    {
     "data": {
      "text/plain": [
       "'cpu'"
      ]
     },
     "execution_count": 547,
     "metadata": {},
     "output_type": "execute_result"
    }
   ],
   "source": [
    "device = 'cuda' if torch.cuda.is_available() else 'cpu'\n",
    "device"
   ]
  },
  {
   "cell_type": "code",
   "execution_count": 548,
   "id": "9f0139ec",
   "metadata": {},
   "outputs": [],
   "source": [
    "# Train Test split\n",
    "n = int(0.9*len(data))\n",
    "train = data[:n]\n",
    "test = data[n:]"
   ]
  },
  {
   "cell_type": "code",
   "execution_count": 552,
   "id": "df48c3db",
   "metadata": {},
   "outputs": [
    {
     "data": {
      "text/plain": [
       "tensor([18, 47, 56, 57, 58,  1, 15, 47, 58])"
      ]
     },
     "execution_count": 552,
     "metadata": {},
     "output_type": "execute_result"
    }
   ],
   "source": [
    "block_size = 8 # context length\n",
    "train[:block_size+1]"
   ]
  },
  {
   "cell_type": "code",
   "execution_count": 555,
   "id": "845a5274",
   "metadata": {},
   "outputs": [
    {
     "name": "stdout",
     "output_type": "stream",
     "text": [
      "Input: tensor([18]) | target: 47\n",
      "Input: tensor([18, 47]) | target: 56\n",
      "Input: tensor([18, 47, 56]) | target: 57\n",
      "Input: tensor([18, 47, 56, 57]) | target: 58\n",
      "Input: tensor([18, 47, 56, 57, 58]) | target: 1\n",
      "Input: tensor([18, 47, 56, 57, 58,  1]) | target: 15\n",
      "Input: tensor([18, 47, 56, 57, 58,  1, 15]) | target: 47\n",
      "Input: tensor([18, 47, 56, 57, 58,  1, 15, 47]) | target: 58\n"
     ]
    }
   ],
   "source": [
    "# time dimension\n",
    "x = train[:block_size]\n",
    "y = train[1:block_size+1]\n",
    "for t in range(block_size):\n",
    "    context = x[:t+1]\n",
    "    target = y[t]\n",
    "    print(f\"Input: {context} | target: {target}\")"
   ]
  },
  {
   "cell_type": "code",
   "execution_count": 554,
   "id": "b4e87334",
   "metadata": {},
   "outputs": [
    {
     "name": "stdout",
     "output_type": "stream",
     "text": [
      "Input: tensor([24]) | target: 43\n",
      "Input: tensor([24, 43]) | target: 58\n",
      "Input: tensor([24, 43, 58]) | target: 5\n",
      "Input: tensor([24, 43, 58,  5]) | target: 57\n",
      "Input: tensor([24, 43, 58,  5, 57]) | target: 1\n",
      "Input: tensor([24, 43, 58,  5, 57,  1]) | target: 46\n",
      "Input: tensor([24, 43, 58,  5, 57,  1, 46]) | target: 43\n",
      "Input: tensor([24, 43, 58,  5, 57,  1, 46, 43]) | target: 39\n",
      "------------------------------------------------------------\n",
      "Input: tensor([44]) | target: 53\n",
      "Input: tensor([44, 53]) | target: 56\n",
      "Input: tensor([44, 53, 56]) | target: 1\n",
      "Input: tensor([44, 53, 56,  1]) | target: 58\n",
      "Input: tensor([44, 53, 56,  1, 58]) | target: 46\n",
      "Input: tensor([44, 53, 56,  1, 58, 46]) | target: 39\n",
      "Input: tensor([44, 53, 56,  1, 58, 46, 39]) | target: 58\n",
      "Input: tensor([44, 53, 56,  1, 58, 46, 39, 58]) | target: 1\n",
      "------------------------------------------------------------\n",
      "Input: tensor([52]) | target: 58\n",
      "Input: tensor([52, 58]) | target: 1\n",
      "Input: tensor([52, 58,  1]) | target: 58\n",
      "Input: tensor([52, 58,  1, 58]) | target: 46\n",
      "Input: tensor([52, 58,  1, 58, 46]) | target: 39\n",
      "Input: tensor([52, 58,  1, 58, 46, 39]) | target: 58\n",
      "Input: tensor([52, 58,  1, 58, 46, 39, 58]) | target: 1\n",
      "Input: tensor([52, 58,  1, 58, 46, 39, 58,  1]) | target: 46\n",
      "------------------------------------------------------------\n",
      "Input: tensor([25]) | target: 17\n",
      "Input: tensor([25, 17]) | target: 27\n",
      "Input: tensor([25, 17, 27]) | target: 10\n",
      "Input: tensor([25, 17, 27, 10]) | target: 0\n",
      "Input: tensor([25, 17, 27, 10,  0]) | target: 21\n",
      "Input: tensor([25, 17, 27, 10,  0, 21]) | target: 1\n",
      "Input: tensor([25, 17, 27, 10,  0, 21,  1]) | target: 54\n",
      "Input: tensor([25, 17, 27, 10,  0, 21,  1, 54]) | target: 39\n",
      "------------------------------------------------------------\n"
     ]
    }
   ],
   "source": [
    "# batch dimension\n",
    "torch.manual_seed(1337)\n",
    "batch_size = 4\n",
    "block_size = 8\n",
    "\n",
    "def get_batch(split):\n",
    "    data = train if split == 'train' else test\n",
    "    ix = torch.randint(len(data) - block_size, (batch_size, ))\n",
    "    x = torch.stack([data[i:i+block_size] for i in ix])\n",
    "    y = torch.stack([data[i+1:i+block_size+1] for i in ix])\n",
    "    x, y = x.to(device), y.to(device)\n",
    "    return x, y\n",
    "\n",
    "xb, yb = get_batch('train')\n",
    "\n",
    "for b in range(batch_size):\n",
    "    for t in range(block_size):\n",
    "        context = xb[b, :t+1]\n",
    "        target = yb[b, t]\n",
    "        print(f\"Input: {context} | target: {target}\")\n",
    "    print(\"---\"*20)"
   ]
  },
  {
   "cell_type": "code",
   "execution_count": 642,
   "id": "37c29304",
   "metadata": {},
   "outputs": [],
   "source": [
    "class BigramLanguageModel(nn.Module):\n",
    "    def __init__(self, vocab_size, n_embd):\n",
    "        super().__init__()\n",
    "        self.token_embbeding_table = nn.Embedding(vocab_size, n_embd)\n",
    "                                                          \n",
    "    def forward(self, idx, targets=None):\n",
    "        logits = self.token_embbeding_table(idx) # (B, T, C) batch, time=context length, channel=n_embd\n",
    "        if targets is None:\n",
    "            loss = None\n",
    "        else:\n",
    "            # change logits shape for cross entropy loss (B, C)\n",
    "            B, T, C = logits.shape\n",
    "            logits = logits.view(B*T, C)\n",
    "            targets = targets.view(B*T)\n",
    "            loss = F.cross_entropy(logits, targets)\n",
    "        return logits, loss\n",
    "    \n",
    "    def generate(self, idx, max_new_tokens):\n",
    "        for _ in range(max_new_tokens):\n",
    "            logits, loss = self(idx)\n",
    "            # focus only on the last time step\n",
    "            logits = logits[:, -1, :] # (B, C)\n",
    "            probs = F.softmax(logits, dim=-1) # (B, C)\n",
    "            idx_next = torch.multinomial(probs, num_samples=1) # (B, 1)\n",
    "            idx = torch.concat((idx, idx_next), dim=1) # (B, T+1)\n",
    "        return idx"
   ]
  },
  {
   "cell_type": "code",
   "execution_count": 643,
   "id": "f389074d",
   "metadata": {},
   "outputs": [],
   "source": [
    "model = BigramLanguageModel(vocab_size, vocab_size).to(device)"
   ]
  },
  {
   "cell_type": "code",
   "execution_count": 644,
   "id": "1cf1b138",
   "metadata": {},
   "outputs": [],
   "source": [
    "optimizer = torch.optim.AdamW(model.parameters(), lr=1e-3)\n",
    "sum(p.numel() for p in model.parameters())\n",
    "epochs = 10000"
   ]
  },
  {
   "cell_type": "code",
   "execution_count": 645,
   "id": "d4ed4ab9",
   "metadata": {},
   "outputs": [
    {
     "name": "stderr",
     "output_type": "stream",
     "text": [
      "C:\\Users\\bJ5xp\\AppData\\Local\\Temp\\ipykernel_22788\\1138750604.py:2: TqdmDeprecationWarning: This function will be removed in tqdm==5.0.0\n",
      "Please use `tqdm.notebook.tqdm` instead of `tqdm.tqdm_notebook`\n",
      "  for epoch in tqdm_notebook(range(epochs)):\n"
     ]
    },
    {
     "data": {
      "application/vnd.jupyter.widget-view+json": {
       "model_id": "bff38692c03c41b7be905c9cba19f632",
       "version_major": 2,
       "version_minor": 0
      },
      "text/plain": [
       "  0%|          | 0/10000 [00:00<?, ?it/s]"
      ]
     },
     "metadata": {},
     "output_type": "display_data"
    },
    {
     "name": "stdout",
     "output_type": "stream",
     "text": [
      "2.4938886165618896\n"
     ]
    }
   ],
   "source": [
    "batch_size = 32\n",
    "for epoch in tqdm_notebook(range(epochs)):\n",
    "    xb, yb = get_batch('train')\n",
    "    logits, loss = model(xb, yb)\n",
    "    optimizer.zero_grad(set_to_none=True)\n",
    "    loss.backward()\n",
    "    optimizer.step()\n",
    "    \n",
    "print(loss.item())"
   ]
  },
  {
   "cell_type": "code",
   "execution_count": 646,
   "id": "69dc8ca6",
   "metadata": {},
   "outputs": [
    {
     "name": "stdout",
     "output_type": "stream",
     "text": [
      "\n",
      "&qFbTzXxuNJ\n",
      "mBH3c'v:ykYxIaYqKzlYyiLyguuJ:shdaFY\n",
      "WJjbzB'tAq.zX-B-ISgwy-BGM,ebpkNePEWR!ElCQXYv!vQZZ!FDdZ\n",
      "izNHfLKrynoOYEyk.wGR!YBZ,VG-iRK;HxLEXYZQo.w cTJPxgzz:lCorVwy:!nwHltSQZwyeuSQ:fwZBEyaAPUzJywkRrW;ZErYyw$3qFc;wylay'Xx\n",
      "K;&;cc;HFltgMXJ!p\n",
      "IgTX-VOS,:,IQXzt.,D aY,\n",
      "VDD?mNg\n",
      "iEDDDszfbzihNXZ,hRid:ZVwgw d'vJsuxKhbD,I:dCqFSlaOPatJRN&P'Olwyh$ThpTS!D,N?;XPfPPv:$BhaD,NXQ.VRqL:b?OC.wpivH,yxKQCg?'Xm:!:lscp3gwpir ZckiuyPidBLhrZZHfXtPxaAh3;dIQH.\n",
      "d;vJldg3BGuxri.bF?XV!vJ!?YjTHf -A?\n",
      "CfQ&Pmned:VPsZG$''vPakR-'TXYnm3\n"
     ]
    }
   ],
   "source": [
    "print(decode(m.generate(torch.zeros((1,1), dtype=torch.long), 500)[0].tolist()))"
   ]
  },
  {
   "cell_type": "markdown",
   "id": "fb5e339b",
   "metadata": {},
   "source": [
    "# The math trick in self-attention"
   ]
  },
  {
   "cell_type": "markdown",
   "id": "346407da",
   "metadata": {},
   "source": [
    "# <----------------------------------------------"
   ]
  },
  {
   "cell_type": "code",
   "execution_count": 418,
   "id": "342fbfed",
   "metadata": {},
   "outputs": [
    {
     "data": {
      "text/plain": [
       "torch.Size([4, 8, 32])"
      ]
     },
     "execution_count": 418,
     "metadata": {},
     "output_type": "execute_result"
    }
   ],
   "source": [
    "# self-attention\n",
    "torch.manual_seed(1337)\n",
    "B, T, C = 4, 8 ,32 # batch, time, channel\n",
    "x = torch.randn(B, T, C)\n",
    "x.shape"
   ]
  },
  {
   "cell_type": "code",
   "execution_count": 419,
   "id": "fce5f415",
   "metadata": {},
   "outputs": [
    {
     "data": {
      "text/plain": [
       "torch.Size([4, 8, 32])"
      ]
     },
     "execution_count": 419,
     "metadata": {},
     "output_type": "execute_result"
    }
   ],
   "source": [
    "tril = torch.tril(torch.ones(T, T))\n",
    "wei = torch.zeros(T, T)# init affinities between tokens\n",
    "wei = wei.masked_fill(tril==0, float('-inf'))\n",
    "wei = F.softmax(wei, dim=-1)\n",
    "out = wei @ x # (T, T) @ (B, T, C) = (B, T, C)\n",
    "out.shape"
   ]
  },
  {
   "cell_type": "markdown",
   "id": "6c798a16",
   "metadata": {},
   "source": [
    "# V2"
   ]
  },
  {
   "cell_type": "code",
   "execution_count": 352,
   "id": "ff4dbe0f",
   "metadata": {},
   "outputs": [],
   "source": [
    "class BigramLanguageModel(nn.Module):\n",
    "    def __init__(self, vocab_size, n_embd):\n",
    "        super().__init__()\n",
    "        self.token_embbeding_table = nn.Embedding(vocab_size, n_embd)\n",
    "        self.position_embbeding_table = nn.Embedding(ctx_len, n_embd)\n",
    "        self.sd_heads = MultiHeadAttention(4, n_embd//4)\n",
    "        self.lm_head = nn.Linear(n_embd, vocab_size)\n",
    "    \n",
    "    def forward(self, idx, targets=None):\n",
    "        B, T = idx.shape\n",
    "        token_emb = self.token_embbeding_table(idx) # (B, T, C)  C=n_embd\n",
    "        pos_emb = self.position_embbeding_table(torch.arange(T, device=device)) # (T, C) C=n_embd\n",
    "        x = token_emb + pos_emb\n",
    "        x = self.sd_heads(x)\n",
    "        logits= self.lm_head(x) # (B, T, C) C=vocab_size\n",
    "        \n",
    "        if targets is None:\n",
    "            loss = None\n",
    "        else:\n",
    "            # change logits shape for cross entropy loss (B, C)\n",
    "            B, T, C = logits.shape\n",
    "            logits = logits.view(B*T, C)\n",
    "            targets = targets.view(B*T)\n",
    "            loss = F.cross_entropy(logits, targets)\n",
    "        return logits, loss\n",
    "    \n",
    "    def generate(self, idx, max_new_tokens):\n",
    "        for _ in range(max_new_tokens):\n",
    "            idx_cond = idx[:, -ctx_len:]\n",
    "            logits, loss = self(idx_cond)\n",
    "            # focus only on the last time step\n",
    "            logits = logits[:, -1, :] # (B, C)\n",
    "            probs = F.softmax(logits, dim=-1) # (B, C)\n",
    "            idx_next = torch.multinomial(probs, num_samples=1) # (B, 1)\n",
    "            idx = torch.concat((idx, idx_next), dim=1) # (B, T+1)\n",
    "        return idx"
   ]
  },
  {
   "cell_type": "markdown",
   "id": "78e305fc",
   "metadata": {},
   "source": [
    "# Single Self Attention Head"
   ]
  },
  {
   "cell_type": "code",
   "execution_count": 522,
   "id": "ee398d59",
   "metadata": {},
   "outputs": [
    {
     "data": {
      "text/plain": [
       "torch.Size([4, 8, 16])"
      ]
     },
     "execution_count": 522,
     "metadata": {},
     "output_type": "execute_result"
    }
   ],
   "source": [
    "# self-attention\n",
    "torch.manual_seed(1337)\n",
    "B, T, C = 4, 8 ,32 # batch, time, channel\n",
    "x = torch.randn(B, T, C) \n",
    "\n",
    "# single head - self-attention (decoder block)\n",
    "head_size = 16\n",
    "query = nn.Linear(C, head_size, bias=False) # (B,T,C) @ (C, H) -> (B,T,H)\n",
    "key = nn.Linear(C, head_size, bias=False)\n",
    "value = nn.Linear(C, head_size, bias=False)\n",
    "q = query(x) # (B,T,H)\n",
    "k = query(x) # (B,T,H)\n",
    "wei = q @ k.transpose(-2, -1) / head_size**0.5# (B, T, H) @ (B, H, T) = (B, T, T) \n",
    "\n",
    "tril = torch.tril(torch.ones(T, T))\n",
    "wei = wei.masked_fill(tril==0, float('-inf')) # masked head attention\n",
    "wei = F.softmax(wei, dim=-1)\n",
    "\n",
    "v = value(x)\n",
    "out = wei @ v\n",
    "\n",
    "out.shape"
   ]
  },
  {
   "cell_type": "code",
   "execution_count": 529,
   "id": "89ffb9e8",
   "metadata": {},
   "outputs": [],
   "source": [
    "# single head self-attention\n",
    "class Head(nn.Module):\n",
    "    def __init__(self, n_embd, head_size, context_length):\n",
    "        super().__init__()\n",
    "        self.key = nn.Linear(n_embd, head_size, bias=False)\n",
    "        self.query = nn.Linear(n_embd, head_size, bias=False)\n",
    "        self.value = nn.Linear(n_embd, head_size, bias=False)\n",
    "        self.register_buffer('tril', torch.tril(torch.ones(context_length, context_length)))\n",
    "        \n",
    "    def forward(self, x):\n",
    "        B, T, C = x.shape # (B, T, C) C=n_embd\n",
    "        k = self.key(x) # (B, T, C) @ (C, H) = (B, T, H)\n",
    "        q = self.query(x) # (B, T, C) @ (C, H) = (B, T, H)\n",
    "        # attention scores (affinities)\n",
    "        att = q @ k.transpose(-2, -1) / head_size**0.5\n",
    "        att = att.masked_fill(self.tril[:T, :T] == 0, float('-inf')) # (B, T, T)\n",
    "        att = F.softmax(att, dim=-1)\n",
    "        # weighted sum of the values\n",
    "        v = self.value(x) # (B, T, C) @ (C, H) = (B, T, H)\n",
    "        out = att @ v\n",
    "        return out\n",
    "        "
   ]
  },
  {
   "cell_type": "markdown",
   "id": "12a03659",
   "metadata": {},
   "source": [
    "# Multi-Head Self Attention"
   ]
  },
  {
   "cell_type": "code",
   "execution_count": 530,
   "id": "0344b1f8",
   "metadata": {},
   "outputs": [],
   "source": [
    "class MultiHeadSelfAttention(nn.Module):\n",
    "    def __init__(self, num_heads, head_size):\n",
    "        super().__init__()\n",
    "        self.heads = nn.ModuleList([Head(head_size) for _ in range(num_heads)])\n",
    "        \n",
    "    def forward(self, x):\n",
    "        return torch.cat([h(x) for h in self.heads], dim=-1)"
   ]
  },
  {
   "cell_type": "code",
   "execution_count": null,
   "id": "a8c4532b",
   "metadata": {},
   "outputs": [],
   "source": []
  },
  {
   "cell_type": "code",
   "execution_count": null,
   "id": "2d4d7324",
   "metadata": {},
   "outputs": [],
   "source": []
  },
  {
   "cell_type": "code",
   "execution_count": null,
   "id": "03637e63",
   "metadata": {},
   "outputs": [],
   "source": []
  }
 ],
 "metadata": {
  "kernelspec": {
   "display_name": "Python 3 (ipykernel)",
   "language": "python",
   "name": "python3"
  },
  "language_info": {
   "codemirror_mode": {
    "name": "ipython",
    "version": 3
   },
   "file_extension": ".py",
   "mimetype": "text/x-python",
   "name": "python",
   "nbconvert_exporter": "python",
   "pygments_lexer": "ipython3",
   "version": "3.10.9"
  }
 },
 "nbformat": 4,
 "nbformat_minor": 5
}
